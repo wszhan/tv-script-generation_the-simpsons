{
 "cells": [
  {
   "cell_type": "markdown",
   "metadata": {},
   "source": [
    "# TV Script Generation\n",
    "In this project, you'll generate your own [Simpsons](https://en.wikipedia.org/wiki/The_Simpsons) TV scripts using RNNs.  You'll be using part of the [Simpsons dataset](https://www.kaggle.com/wcukierski/the-simpsons-by-the-data) of scripts from 27 seasons.  The Neural Network you'll build will generate a new TV script for a scene at [Moe's Tavern](https://simpsonswiki.com/wiki/Moe's_Tavern).\n",
    "## Get the Data\n",
    "The data is already provided for you.  You'll be using a subset of the original dataset.  It consists of only the scenes in Moe's Tavern.  This doesn't include other versions of the tavern, like \"Moe's Cavern\", \"Flaming Moe's\", \"Uncle Moe's Family Feed-Bag\", etc.."
   ]
  },
  {
   "cell_type": "code",
   "execution_count": 1,
   "metadata": {},
   "outputs": [],
   "source": [
    "\"\"\"\n",
    "DON'T MODIFY ANYTHING IN THIS CELL\n",
    "\"\"\"\n",
    "import helper\n",
    "\n",
    "data_dir = './data/simpsons/moes_tavern_lines.txt'\n",
    "text = helper.load_data(data_dir)\n",
    "# Ignore notice, since we don't use it for analysing the data\n",
    "text = text[81:]"
   ]
  },
  {
   "cell_type": "code",
   "execution_count": 2,
   "metadata": {},
   "outputs": [
    {
     "name": "stdout",
     "output_type": "stream",
     "text": [
      " I thought it would be neat to follow him around for a day to see what makes him tick.\n",
      "Barney_Gumble: Oh, that's sweet. I used to follow my dad to a lot of bars too. (BELCH)\n",
      "Moe_Szyslak: Here you go. One beer, one chocolate milk.\n",
      "Lisa_Simpson: Uh, excuse me, I have the chocolate milk.\n",
      "Moe_Szyslak: Oh.\n",
      "Moe_Szyslak: What's the matter, Homer? The depressin' effects of alcohol usually don't kick in 'til closing time.\n",
      "Lisa_Simpson: He's just a little nervous. (PROUDLY) He has to give a speech tomorrow on \"How To Keep Cool In A Crisis.\"\n",
      "Homer_Simpson: (SOBS) What am I gonna do? What am I gonna do?\n",
      "Barney_Gumble: Hey, I had to give a speech once. I was pretty nervous, so I used a little trick. I pictured everyone in their underwear. The judge, the jury, my lawyer, everybody.\n",
      "Homer_Simpson: Did it work?\n",
      "Barney_Gumble: I'm a free man, ain't I?\n",
      "Barney_Gumble: Whoa!\n",
      "Barney_Gumble: Huh? A pretzel? Wow, looks like I pulled a Homer!\n",
      "\n",
      "\n",
      "Patrons: (MUMBLING, NOT IN UNISON) Happy thoughts... happy thoughts... we love that boy.\n",
      "Moe_Szyslak: (INTO PHONE) Moe's Tavern. Hold on, I'll check. ... (LOUD) Hey everybody! I'm a stupid moron with an ugly face and a big butt, and my butt smells, and I like to kiss my o\n"
     ]
    }
   ],
   "source": [
    "print (text[1493:2700])"
   ]
  },
  {
   "cell_type": "markdown",
   "metadata": {},
   "source": [
    "## Explore the Data\n",
    "Play around with `view_sentence_range` to view different parts of the data."
   ]
  },
  {
   "cell_type": "code",
   "execution_count": 3,
   "metadata": {},
   "outputs": [
    {
     "name": "stdout",
     "output_type": "stream",
     "text": [
      "Dataset Stats\n",
      "Roughly the number of unique words: 11492\n",
      "Number of scenes: 262\n",
      "Average number of sentences in each scene: 15.248091603053435\n",
      "Number of lines: 4257\n",
      "Average number of words in each line: 11.50434578341555\n",
      "\n",
      "The sentences 10 to 20:\n",
      "Moe_Szyslak: Ah, isn't that nice. Now, there is a politician who cares.\n",
      "Barney_Gumble: If I ever vote, it'll be for him. (BELCH)\n",
      "\n",
      "\n",
      "Barney_Gumble: Hey Homer, how's your neighbor's store doing?\n",
      "Homer_Simpson: Lousy. He just sits there all day. He'd have a great job if he didn't own the place. (CHUCKLES)\n",
      "Moe_Szyslak: (STRUGGLING WITH CORKSCREW) Crummy right-handed corkscrews! What does he sell?\n",
      "Homer_Simpson: Uh, well actually, Moe...\n",
      "HOMER_(CONT'D: I dunno.\n",
      "\n"
     ]
    }
   ],
   "source": [
    "view_sentence_range = (10, 20)\n",
    "\n",
    "\"\"\"\n",
    "DON'T MODIFY ANYTHING IN THIS CELL\n",
    "\"\"\"\n",
    "import numpy as np\n",
    "\n",
    "print('Dataset Stats')\n",
    "print('Roughly the number of unique words: {}'.format(len({word: None for word in text.split()})))\n",
    "scenes = text.split('\\n\\n')\n",
    "print('Number of scenes: {}'.format(len(scenes)))\n",
    "sentence_count_scene = [scene.count('\\n') for scene in scenes]\n",
    "print('Average number of sentences in each scene: {}'.format(np.average(sentence_count_scene)))\n",
    "\n",
    "sentences = [sentence for scene in scenes for sentence in scene.split('\\n')]\n",
    "print('Number of lines: {}'.format(len(sentences)))\n",
    "word_count_sentence = [len(sentence.split()) for sentence in sentences]\n",
    "print('Average number of words in each line: {}'.format(np.average(word_count_sentence)))\n",
    "\n",
    "print()\n",
    "print('The sentences {} to {}:'.format(*view_sentence_range))\n",
    "print('\\n'.join(text.split('\\n')[view_sentence_range[0]:view_sentence_range[1]]))"
   ]
  },
  {
   "cell_type": "markdown",
   "metadata": {},
   "source": [
    "## Implement Preprocessing Functions\n",
    "The first thing to do to any dataset is preprocessing.  Implement the following preprocessing functions below:\n",
    "- Lookup Table\n",
    "- Tokenize Punctuation\n",
    "\n",
    "### Lookup Table\n",
    "To create a word embedding, you first need to transform the words to ids.  In this function, create two dictionaries:\n",
    "- Dictionary to go from the words to an id, we'll call `vocab_to_int`\n",
    "- Dictionary to go from the id to word, we'll call `int_to_vocab`\n",
    "\n",
    "Return these dictionaries in the following tuple `(vocab_to_int, int_to_vocab)`"
   ]
  },
  {
   "cell_type": "code",
   "execution_count": 4,
   "metadata": {},
   "outputs": [
    {
     "name": "stdout",
     "output_type": "stream",
     "text": [
      "Tests Passed\n"
     ]
    }
   ],
   "source": [
    "import numpy as np\n",
    "import problem_unittests as tests\n",
    "\n",
    "def create_lookup_tables(text):\n",
    "    \"\"\"\n",
    "    Create lookup tables for vocabulary\n",
    "    :param text: The text of tv scripts split into words\n",
    "    :return: A tuple of dicts (vocab_to_int, int_to_vocab)\n",
    "    \"\"\"\n",
    "    # TODO: Implement Function\n",
    "    \n",
    "    vocab_to_int = {word:ii for ii, word in enumerate(set(text)) if len(word) > 0}\n",
    "    int_to_vocab = {ii:word for word, ii in vocab_to_int.items()}\n",
    "    \n",
    "    return (vocab_to_int, int_to_vocab)\n",
    "\n",
    "\n",
    "\"\"\"\n",
    "DON'T MODIFY ANYTHING IN THIS CELL THAT IS BELOW THIS LINE\n",
    "\"\"\"\n",
    "tests.test_create_lookup_tables(create_lookup_tables)"
   ]
  },
  {
   "cell_type": "markdown",
   "metadata": {},
   "source": [
    "### Tokenize Punctuation\n",
    "We'll be splitting the script into a word array using spaces as delimiters.  However, punctuations like periods and exclamation marks make it hard for the neural network to distinguish between the word \"bye\" and \"bye!\".\n",
    "\n",
    "Implement the function `token_lookup` to return a dict that will be used to tokenize symbols like \"!\" into \"||Exclamation_Mark||\".  Create a dictionary for the following symbols where the symbol is the key and value is the token:\n",
    "- Period ( . )\n",
    "- Comma ( , )\n",
    "- Quotation Mark ( \" )\n",
    "- Semicolon ( ; )\n",
    "- Exclamation mark ( ! )\n",
    "- Question mark ( ? )\n",
    "- Left Parentheses ( ( )\n",
    "- Right Parentheses ( ) )\n",
    "- Dash ( -- )\n",
    "- Return ( \\n )\n",
    "\n",
    "This dictionary will be used to token the symbols and add the delimiter (space) around it.  This separates the symbols as it's own word, making it easier for the neural network to predict on the next word. Make sure you don't use a token that could be confused as a word. Instead of using the token \"dash\", try using something like \"||dash||\"."
   ]
  },
  {
   "cell_type": "code",
   "execution_count": 5,
   "metadata": {},
   "outputs": [
    {
     "name": "stdout",
     "output_type": "stream",
     "text": [
      "Tests Passed\n"
     ]
    }
   ],
   "source": [
    "def token_lookup():\n",
    "    \"\"\"\n",
    "    Generate a dict to turn punctuation into a token.\n",
    "    :return: Tokenize dictionary where the key is the punctuation and the value is the token\n",
    "    \"\"\"\n",
    "    # TODO: Implement Function\n",
    "    \n",
    "    puncs = list(\".,\\\";!?()\")\n",
    "    puncs.append('--')\n",
    "    puncs.append('\\n')\n",
    "\n",
    "    raw_values = ['Period', 'Comma', 'Quotation_Mark','Semicolon',\n",
    "                  'Exclamation_mark', 'Question_mark', 'Left_Parentheses',\n",
    "                  'Right_Parentheses', 'Dash', 'Return']\n",
    "    values = [\"||\"+raw_value+'||' for raw_value in raw_values]\n",
    "    tokenized_punctuation = {punc: value for punc, value in zip(puncs, values)}\n",
    "    \n",
    "    return tokenized_punctuation\n",
    "\n",
    "\"\"\"\n",
    "DON'T MODIFY ANYTHING IN THIS CELL THAT IS BELOW THIS LINE\n",
    "\"\"\"\n",
    "tests.test_tokenize(token_lookup)"
   ]
  },
  {
   "cell_type": "markdown",
   "metadata": {},
   "source": [
    "## Preprocess all the data and save it\n",
    "Running the code cell below will preprocess all the data and save it to file."
   ]
  },
  {
   "cell_type": "code",
   "execution_count": 6,
   "metadata": {},
   "outputs": [],
   "source": [
    "\"\"\"\n",
    "DON'T MODIFY ANYTHING IN THIS CELL\n",
    "\"\"\"\n",
    "# Preprocess Training, Validation, and Testing Data\n",
    "helper.preprocess_and_save_data(data_dir, token_lookup, create_lookup_tables)"
   ]
  },
  {
   "cell_type": "markdown",
   "metadata": {},
   "source": [
    "# Check Point\n",
    "This is your first checkpoint. If you ever decide to come back to this notebook or have to restart the notebook, you can start from here. The preprocessed data has been saved to disk."
   ]
  },
  {
   "cell_type": "code",
   "execution_count": 34,
   "metadata": {},
   "outputs": [],
   "source": [
    "\"\"\"\n",
    "DON'T MODIFY ANYTHING IN THIS CELL\n",
    "\"\"\"\n",
    "import helper\n",
    "import numpy as np\n",
    "import problem_unittests as tests\n",
    "\n",
    "int_text, vocab_to_int, int_to_vocab, token_dict = helper.load_preprocess()"
   ]
  },
  {
   "cell_type": "markdown",
   "metadata": {},
   "source": [
    "## Build the Neural Network\n",
    "You'll build the components necessary to build a RNN by implementing the following functions below:\n",
    "- get_inputs\n",
    "- get_init_cell\n",
    "- get_embed\n",
    "- build_rnn\n",
    "- build_nn\n",
    "- get_batches\n",
    "\n",
    "### Check the Version of TensorFlow and Access to GPU"
   ]
  },
  {
   "cell_type": "code",
   "execution_count": 35,
   "metadata": {},
   "outputs": [
    {
     "name": "stdout",
     "output_type": "stream",
     "text": [
      "TensorFlow Version: 1.4.1\n",
      "Default GPU Device: /device:GPU:0\n"
     ]
    }
   ],
   "source": [
    "\"\"\"\n",
    "DON'T MODIFY ANYTHING IN THIS CELL\n",
    "\"\"\"\n",
    "from distutils.version import LooseVersion\n",
    "import warnings\n",
    "import tensorflow as tf\n",
    "\n",
    "# Check TensorFlow Version\n",
    "assert LooseVersion(tf.__version__) >= LooseVersion('1.3'), 'Please use TensorFlow version 1.3 or newer'\n",
    "print('TensorFlow Version: {}'.format(tf.__version__))\n",
    "\n",
    "# Check for a GPU\n",
    "if not tf.test.gpu_device_name():\n",
    "    warnings.warn('No GPU found. Please use a GPU to train your neural network.')\n",
    "else:\n",
    "    print('Default GPU Device: {}'.format(tf.test.gpu_device_name()))"
   ]
  },
  {
   "cell_type": "markdown",
   "metadata": {},
   "source": [
    "### Input\n",
    "Implement the `get_inputs()` function to create TF Placeholders for the Neural Network.  It should create the following placeholders:\n",
    "- Input text placeholder named \"input\" using the [TF Placeholder](https://www.tensorflow.org/api_docs/python/tf/placeholder) `name` parameter.\n",
    "- Targets placeholder\n",
    "- Learning Rate placeholder\n",
    "\n",
    "Return the placeholders in the following tuple `(Input, Targets, LearningRate)`"
   ]
  },
  {
   "cell_type": "code",
   "execution_count": 36,
   "metadata": {},
   "outputs": [
    {
     "name": "stdout",
     "output_type": "stream",
     "text": [
      "Tests Passed\n"
     ]
    }
   ],
   "source": [
    "def get_inputs():\n",
    "    \"\"\"\n",
    "    Create TF Placeholders for input, targets, and learning rate.\n",
    "    :return: Tuple (input, targets, learning rate)\n",
    "    \"\"\"\n",
    "    # TODO: Implement Function\n",
    "    \n",
    "    inputs = tf.placeholder(tf.int32, shape=[None, None], name=\"input\")\n",
    "    targets = tf.placeholder(tf.int32, shape=[None, None], name=\"targets\")\n",
    "    learning_rate = tf.placeholder(tf.float32, name=\"learning_rate\")\n",
    "    \n",
    "    return inputs, targets, learning_rate\n",
    "\n",
    "\n",
    "\"\"\"\n",
    "DON'T MODIFY ANYTHING IN THIS CELL THAT IS BELOW THIS LINE\n",
    "\"\"\"\n",
    "tests.test_get_inputs(get_inputs)"
   ]
  },
  {
   "cell_type": "markdown",
   "metadata": {},
   "source": [
    "### Build RNN Cell and Initialize\n",
    "Stack one or more [`BasicLSTMCells`](https://www.tensorflow.org/api_docs/python/tf/contrib/rnn/BasicLSTMCell) in a [`MultiRNNCell`](https://www.tensorflow.org/api_docs/python/tf/contrib/rnn/MultiRNNCell).\n",
    "- The Rnn size should be set using `rnn_size`\n",
    "- Initalize Cell State using the MultiRNNCell's [`zero_state()`](https://www.tensorflow.org/api_docs/python/tf/contrib/rnn/MultiRNNCell#zero_state) function\n",
    "    - Apply the name \"initial_state\" to the initial state using [`tf.identity()`](https://www.tensorflow.org/api_docs/python/tf/identity)\n",
    "\n",
    "Return the cell and initial state in the following tuple `(Cell, InitialState)`"
   ]
  },
  {
   "cell_type": "code",
   "execution_count": 37,
   "metadata": {},
   "outputs": [
    {
     "name": "stdout",
     "output_type": "stream",
     "text": [
      "Tests Passed\n"
     ]
    }
   ],
   "source": [
    "def get_init_cell(batch_size, rnn_size):\n",
    "    \"\"\"\n",
    "    Create an RNN Cell and initialize it.\n",
    "    :param batch_size: Size of batches\n",
    "    :param rnn_size: Size of RNNs\n",
    "    :return: Tuple (cell, initialize state)\n",
    "    \"\"\"\n",
    "    # TODO: Implement Function\n",
    "    lstm = tf.contrib.rnn.BasicLSTMCell(rnn_size)\n",
    "    cell = tf.contrib.rnn.MultiRNNCell([lstm])\n",
    "    initial_state = tf.identity(cell.zero_state(batch_size, tf.float32), name=\"initial_state\")\n",
    "    \n",
    "    return cell, initial_state\n",
    "\n",
    "\n",
    "\"\"\"\n",
    "DON'T MODIFY ANYTHING IN THIS CELL THAT IS BELOW THIS LINE\n",
    "\"\"\"\n",
    "tests.test_get_init_cell(get_init_cell)"
   ]
  },
  {
   "cell_type": "markdown",
   "metadata": {},
   "source": [
    "### Word Embedding\n",
    "Apply embedding to `input_data` using TensorFlow.  Return the embedded sequence."
   ]
  },
  {
   "cell_type": "code",
   "execution_count": 38,
   "metadata": {},
   "outputs": [
    {
     "name": "stdout",
     "output_type": "stream",
     "text": [
      "Tests Passed\n"
     ]
    }
   ],
   "source": [
    "def get_embed(input_data, vocab_size, embed_dim):\n",
    "    \"\"\"\n",
    "    Create embedding for <input_data>.\n",
    "    :param input_data: TF placeholder for text input.\n",
    "    :param vocab_size: Number of words in vocabulary.\n",
    "    :param embed_dim: Number of embedding dimensions\n",
    "    :return: Embedded input.\n",
    "    \"\"\"\n",
    "    # TODO: Implement Function\n",
    "    embedding = tf.Variable(\n",
    "        tf.random_uniform(\n",
    "            [vocab_size, embed_dim], -1, 1\n",
    "        )\n",
    "    )\n",
    "    \n",
    "    embed = tf.nn.embedding_lookup(embedding, input_data)\n",
    "    \n",
    "    return embed\n",
    "\n",
    "\n",
    "\"\"\"\n",
    "DON'T MODIFY ANYTHING IN THIS CELL THAT IS BELOW THIS LINE\n",
    "\"\"\"\n",
    "tests.test_get_embed(get_embed)"
   ]
  },
  {
   "cell_type": "markdown",
   "metadata": {},
   "source": [
    "### Build RNN\n",
    "You created a RNN Cell in the `get_init_cell()` function.  Time to use the cell to create a RNN.\n",
    "- Build the RNN using the [`tf.nn.dynamic_rnn()`](https://www.tensorflow.org/api_docs/python/tf/nn/dynamic_rnn)\n",
    " - Apply the name \"final_state\" to the final state using [`tf.identity()`](https://www.tensorflow.org/api_docs/python/tf/identity)\n",
    "\n",
    "Return the outputs and final_state state in the following tuple `(Outputs, FinalState)` "
   ]
  },
  {
   "cell_type": "code",
   "execution_count": 39,
   "metadata": {},
   "outputs": [
    {
     "name": "stdout",
     "output_type": "stream",
     "text": [
      "Tests Passed\n"
     ]
    }
   ],
   "source": [
    "def build_rnn(cell, inputs):\n",
    "    \"\"\"\n",
    "    Create a RNN using a RNN Cell\n",
    "    :param cell: RNN Cell\n",
    "    :param inputs: Input text data\n",
    "    :return: Tuple (Outputs, Final State)\n",
    "    \"\"\"\n",
    "    # TODO: Implement Function\n",
    "    outputs, state = tf.nn.dynamic_rnn(cell, inputs, dtype=tf.float32)\n",
    "    final_state = tf.identity(state, name=\"final_state\")\n",
    "    return outputs, final_state\n",
    "\n",
    "\n",
    "\"\"\"\n",
    "DON'T MODIFY ANYTHING IN THIS CELL THAT IS BELOW THIS LINE\n",
    "\"\"\"\n",
    "tests.test_build_rnn(build_rnn)"
   ]
  },
  {
   "cell_type": "markdown",
   "metadata": {},
   "source": [
    "### Build the Neural Network\n",
    "Apply the functions you implemented above to:\n",
    "- Apply embedding to `input_data` using your `get_embed(input_data, vocab_size, embed_dim)` function.\n",
    "- Build RNN using `cell` and your `build_rnn(cell, inputs)` function.\n",
    "- Apply a fully connected layer with a linear activation and `vocab_size` as the number of outputs.\n",
    "\n",
    "Return the logits and final state in the following tuple (Logits, FinalState) "
   ]
  },
  {
   "cell_type": "code",
   "execution_count": 40,
   "metadata": {},
   "outputs": [
    {
     "name": "stdout",
     "output_type": "stream",
     "text": [
      "Tests Passed\n"
     ]
    }
   ],
   "source": [
    "def build_nn(cell, rnn_size, input_data, vocab_size, embed_dim):\n",
    "    \"\"\"\n",
    "    Build part of the neural network\n",
    "    :param cell: RNN cell\n",
    "    :param rnn_size: Size of rnns\n",
    "    :param input_data: Input data\n",
    "    :param vocab_size: Vocabulary size\n",
    "    :param embed_dim: Number of embedding dimensions\n",
    "    :return: Tuple (Logits, FinalState)\n",
    "    \"\"\"\n",
    "    # TODO: Implement Function\n",
    "    embed = get_embed(input_data, vocab_size, embed_dim)\n",
    "    outputs, final_state = build_rnn(cell, embed)\n",
    "    logits = tf.contrib.layers.fully_connected(outputs, vocab_size, activation_fn=None)\n",
    "    return logits, final_state\n",
    "\n",
    "\n",
    "\"\"\"\n",
    "DON'T MODIFY ANYTHING IN THIS CELL THAT IS BELOW THIS LINE\n",
    "\"\"\"\n",
    "tests.test_build_nn(build_nn)"
   ]
  },
  {
   "cell_type": "markdown",
   "metadata": {},
   "source": [
    "### Batches\n",
    "Implement `get_batches` to create batches of input and targets using `int_text`.  The batches should be a Numpy array with the shape `(number of batches, 2, batch size, sequence length)`. Each batch contains two elements:\n",
    "- The first element is a single batch of **input** with the shape `[batch size, sequence length]`\n",
    "- The second element is a single batch of **targets** with the shape `[batch size, sequence length]`\n",
    "\n",
    "If you can't fill the last batch with enough data, drop the last batch.\n",
    "\n",
    "For example, `get_batches([1, 2, 3, 4, 5, 6, 7, 8, 9, 10, 11, 12, 13, 14, 15, 16, 17, 18, 19, 20], 3, 2)` would return a Numpy array of the following:\n",
    "```\n",
    "[\n",
    "  # First Batch\n",
    "  [\n",
    "    # Batch of Input\n",
    "    [[ 1  2], [ 7  8], [13 14]]\n",
    "    # Batch of targets\n",
    "    [[ 2  3], [ 8  9], [14 15]]\n",
    "  ]\n",
    "\n",
    "  # Second Batch\n",
    "  [\n",
    "    # Batch of Input\n",
    "    [[ 3  4], [ 9 10], [15 16]]\n",
    "    # Batch of targets\n",
    "    [[ 4  5], [10 11], [16 17]]\n",
    "  ]\n",
    "\n",
    "  # Third Batch\n",
    "  [\n",
    "    # Batch of Input\n",
    "    [[ 5  6], [11 12], [17 18]]\n",
    "    # Batch of targets\n",
    "    [[ 6  7], [12 13], [18  1]]\n",
    "  ]\n",
    "]\n",
    "```\n",
    "\n",
    "Notice that the last target value in the last batch is the first input value of the first batch. In this case, `1`. This is a common technique used when creating sequence batches, although it is rather unintuitive."
   ]
  },
  {
   "cell_type": "code",
   "execution_count": 41,
   "metadata": {},
   "outputs": [
    {
     "name": "stdout",
     "output_type": "stream",
     "text": [
      "Tests Passed\n"
     ]
    }
   ],
   "source": [
    "def get_batches(int_text, batch_size, seq_length):\n",
    "    \"\"\"\n",
    "    Return batches of input and target\n",
    "    :param int_text: Text with the words replaced by their ids\n",
    "    :param batch_size: The size of batch\n",
    "    :param seq_length: The length of sequence\n",
    "    :return: Batches as a Numpy array\n",
    "    \"\"\"\n",
    "    # TODO: Implement Function\n",
    "    n_batches = len(int_text) // (batch_size * seq_length)\n",
    "    \n",
    "    # data_length we need\n",
    "    data_length = n_batches * batch_size * seq_length\n",
    "    \n",
    "    # batch_length we need\n",
    "    batch_length = batch_size * seq_length\n",
    "    \n",
    "    # data we need\n",
    "    x, y = int_text[:data_length], int_text[1:data_length]\n",
    "    y.append(int_text[0])\n",
    "    x = np.array(x)\n",
    "    y = np.array(y)\n",
    "    \n",
    "    x_batches = np.split(x.reshape(batch_size, -1), n_batches, 1)\n",
    "    y_batches = np.split(y.reshape(batch_size, -1), n_batches, 1)\n",
    "\n",
    "    return np.array(list(zip(x_batches, y_batches)))\n",
    "\n",
    "\n",
    "\"\"\"\n",
    "DON'T MODIFY ANYTHING IN THIS CELL THAT IS BELOW THIS LINE\n",
    "\"\"\"\n",
    "tests.test_get_batches(get_batches)"
   ]
  },
  {
   "cell_type": "markdown",
   "metadata": {},
   "source": [
    "## Neural Network Training\n",
    "### Hyperparameters\n",
    "Tune the following parameters:\n",
    "\n",
    "- Set `num_epochs` to the number of epochs.\n",
    "- Set `batch_size` to the batch size.\n",
    "- Set `rnn_size` to the size of the RNNs.\n",
    "- Set `embed_dim` to the size of the embedding.\n",
    "- Set `seq_length` to the length of sequence.\n",
    "- Set `learning_rate` to the learning rate.\n",
    "- Set `show_every_n_batches` to the number of batches the neural network should print progress."
   ]
  },
  {
   "cell_type": "code",
   "execution_count": 42,
   "metadata": {},
   "outputs": [],
   "source": [
    "# Number of Epochs\n",
    "num_epochs = 256\n",
    "# Batch Size\n",
    "batch_size = 256\n",
    "# RNN Size\n",
    "rnn_size = 256\n",
    "# Embedding Dimension Size\n",
    "embed_dim = 256\n",
    "# Sequence Length\n",
    "# seq_length = 128 for the previous model, which reaches a loss of 0.111 with learning_rate of 0.01\n",
    "# a long sequence takes into account the context of the sentence\n",
    "# but the review also got a point, so here I will try a shorter one, with a smaller learning rate\n",
    "\n",
    "seq_length = 64\n",
    "\n",
    "# Learning Rate\n",
    "learning_rate = 0.005 \n",
    "# Show stats for every n number of batches\n",
    "show_every_n_batches = 4\n",
    "\n",
    "\"\"\"\n",
    "DON'T MODIFY ANYTHING IN THIS CELL THAT IS BELOW THIS LINE\n",
    "\"\"\"\n",
    "save_dir = './save'"
   ]
  },
  {
   "cell_type": "markdown",
   "metadata": {},
   "source": [
    "### Build the Graph\n",
    "Build the graph using the neural network you implemented."
   ]
  },
  {
   "cell_type": "code",
   "execution_count": 43,
   "metadata": {},
   "outputs": [],
   "source": [
    "\"\"\"\n",
    "DON'T MODIFY ANYTHING IN THIS CELL\n",
    "\"\"\"\n",
    "from tensorflow.contrib import seq2seq\n",
    "\n",
    "train_graph = tf.Graph()\n",
    "with train_graph.as_default():\n",
    "    vocab_size = len(int_to_vocab)\n",
    "    input_text, targets, lr = get_inputs()\n",
    "    input_data_shape = tf.shape(input_text)\n",
    "    cell, initial_state = get_init_cell(input_data_shape[0], rnn_size)\n",
    "    logits, final_state = build_nn(cell, rnn_size, input_text, vocab_size, embed_dim)\n",
    "\n",
    "    # Probabilities for generating words\n",
    "    probs = tf.nn.softmax(logits, name='probs')\n",
    "\n",
    "    # Loss function\n",
    "    cost = seq2seq.sequence_loss(\n",
    "        logits,\n",
    "        targets,\n",
    "        tf.ones([input_data_shape[0], input_data_shape[1]]))\n",
    "\n",
    "    # Optimizer\n",
    "    optimizer = tf.train.AdamOptimizer(lr)\n",
    "\n",
    "    # Gradient Clipping\n",
    "    gradients = optimizer.compute_gradients(cost)\n",
    "    capped_gradients = [(tf.clip_by_value(grad, -1., 1.), var) for grad, var in gradients if grad is not None]\n",
    "    train_op = optimizer.apply_gradients(capped_gradients)"
   ]
  },
  {
   "cell_type": "markdown",
   "metadata": {},
   "source": [
    "## Train\n",
    "Train the neural network on the preprocessed data.  If you have a hard time getting a good loss, check the [forums](https://discussions.udacity.com/) to see if anyone is having the same problem."
   ]
  },
  {
   "cell_type": "code",
   "execution_count": 44,
   "metadata": {},
   "outputs": [
    {
     "name": "stdout",
     "output_type": "stream",
     "text": [
      "Epoch   0 Batch    0/4   train_loss = 8.826\n",
      "Epoch   1 Batch    0/4   train_loss = 6.506\n",
      "Epoch   2 Batch    0/4   train_loss = 6.126\n",
      "Epoch   3 Batch    0/4   train_loss = 5.810\n",
      "Epoch   4 Batch    0/4   train_loss = 5.630\n",
      "Epoch   5 Batch    0/4   train_loss = 5.470\n",
      "Epoch   6 Batch    0/4   train_loss = 5.314\n",
      "Epoch   7 Batch    0/4   train_loss = 5.159\n",
      "Epoch   8 Batch    0/4   train_loss = 5.012\n",
      "Epoch   9 Batch    0/4   train_loss = 4.878\n",
      "Epoch  10 Batch    0/4   train_loss = 4.756\n",
      "Epoch  11 Batch    0/4   train_loss = 4.643\n",
      "Epoch  12 Batch    0/4   train_loss = 4.537\n",
      "Epoch  13 Batch    0/4   train_loss = 4.438\n",
      "Epoch  14 Batch    0/4   train_loss = 4.342\n",
      "Epoch  15 Batch    0/4   train_loss = 4.249\n",
      "Epoch  16 Batch    0/4   train_loss = 4.160\n",
      "Epoch  17 Batch    0/4   train_loss = 4.073\n",
      "Epoch  18 Batch    0/4   train_loss = 3.990\n",
      "Epoch  19 Batch    0/4   train_loss = 3.910\n",
      "Epoch  20 Batch    0/4   train_loss = 3.834\n",
      "Epoch  21 Batch    0/4   train_loss = 3.764\n",
      "Epoch  22 Batch    0/4   train_loss = 3.703\n",
      "Epoch  23 Batch    0/4   train_loss = 3.624\n",
      "Epoch  24 Batch    0/4   train_loss = 3.556\n",
      "Epoch  25 Batch    0/4   train_loss = 3.488\n",
      "Epoch  26 Batch    0/4   train_loss = 3.417\n",
      "Epoch  27 Batch    0/4   train_loss = 3.356\n",
      "Epoch  28 Batch    0/4   train_loss = 3.296\n",
      "Epoch  29 Batch    0/4   train_loss = 3.233\n",
      "Epoch  30 Batch    0/4   train_loss = 3.176\n",
      "Epoch  31 Batch    0/4   train_loss = 3.132\n",
      "Epoch  32 Batch    0/4   train_loss = 3.075\n",
      "Epoch  33 Batch    0/4   train_loss = 3.024\n",
      "Epoch  34 Batch    0/4   train_loss = 2.972\n",
      "Epoch  35 Batch    0/4   train_loss = 2.925\n",
      "Epoch  36 Batch    0/4   train_loss = 2.876\n",
      "Epoch  37 Batch    0/4   train_loss = 2.825\n",
      "Epoch  38 Batch    0/4   train_loss = 2.789\n",
      "Epoch  39 Batch    0/4   train_loss = 2.739\n",
      "Epoch  40 Batch    0/4   train_loss = 2.698\n",
      "Epoch  41 Batch    0/4   train_loss = 2.661\n",
      "Epoch  42 Batch    0/4   train_loss = 2.617\n",
      "Epoch  43 Batch    0/4   train_loss = 2.596\n",
      "Epoch  44 Batch    0/4   train_loss = 2.543\n",
      "Epoch  45 Batch    0/4   train_loss = 2.527\n",
      "Epoch  46 Batch    0/4   train_loss = 2.475\n",
      "Epoch  47 Batch    0/4   train_loss = 2.439\n",
      "Epoch  48 Batch    0/4   train_loss = 2.400\n",
      "Epoch  49 Batch    0/4   train_loss = 2.370\n",
      "Epoch  50 Batch    0/4   train_loss = 2.329\n",
      "Epoch  51 Batch    0/4   train_loss = 2.297\n",
      "Epoch  52 Batch    0/4   train_loss = 2.272\n",
      "Epoch  53 Batch    0/4   train_loss = 2.243\n",
      "Epoch  54 Batch    0/4   train_loss = 2.204\n",
      "Epoch  55 Batch    0/4   train_loss = 2.194\n",
      "Epoch  56 Batch    0/4   train_loss = 2.145\n",
      "Epoch  57 Batch    0/4   train_loss = 2.127\n",
      "Epoch  58 Batch    0/4   train_loss = 2.081\n",
      "Epoch  59 Batch    0/4   train_loss = 2.056\n",
      "Epoch  60 Batch    0/4   train_loss = 2.024\n",
      "Epoch  61 Batch    0/4   train_loss = 1.994\n",
      "Epoch  62 Batch    0/4   train_loss = 1.980\n",
      "Epoch  63 Batch    0/4   train_loss = 1.947\n",
      "Epoch  64 Batch    0/4   train_loss = 1.930\n",
      "Epoch  65 Batch    0/4   train_loss = 1.917\n",
      "Epoch  66 Batch    0/4   train_loss = 1.882\n",
      "Epoch  67 Batch    0/4   train_loss = 1.857\n",
      "Epoch  68 Batch    0/4   train_loss = 1.830\n",
      "Epoch  69 Batch    0/4   train_loss = 1.794\n",
      "Epoch  70 Batch    0/4   train_loss = 1.779\n",
      "Epoch  71 Batch    0/4   train_loss = 1.758\n",
      "Epoch  72 Batch    0/4   train_loss = 1.727\n",
      "Epoch  73 Batch    0/4   train_loss = 1.738\n",
      "Epoch  74 Batch    0/4   train_loss = 1.682\n",
      "Epoch  75 Batch    0/4   train_loss = 1.690\n",
      "Epoch  76 Batch    0/4   train_loss = 1.644\n",
      "Epoch  77 Batch    0/4   train_loss = 1.628\n",
      "Epoch  78 Batch    0/4   train_loss = 1.607\n",
      "Epoch  79 Batch    0/4   train_loss = 1.583\n",
      "Epoch  80 Batch    0/4   train_loss = 1.572\n",
      "Epoch  81 Batch    0/4   train_loss = 1.542\n",
      "Epoch  82 Batch    0/4   train_loss = 1.545\n",
      "Epoch  83 Batch    0/4   train_loss = 1.511\n",
      "Epoch  84 Batch    0/4   train_loss = 1.503\n",
      "Epoch  85 Batch    0/4   train_loss = 1.483\n",
      "Epoch  86 Batch    0/4   train_loss = 1.466\n",
      "Epoch  87 Batch    0/4   train_loss = 1.439\n",
      "Epoch  88 Batch    0/4   train_loss = 1.440\n",
      "Epoch  89 Batch    0/4   train_loss = 1.409\n",
      "Epoch  90 Batch    0/4   train_loss = 1.414\n",
      "Epoch  91 Batch    0/4   train_loss = 1.390\n",
      "Epoch  92 Batch    0/4   train_loss = 1.379\n",
      "Epoch  93 Batch    0/4   train_loss = 1.346\n",
      "Epoch  94 Batch    0/4   train_loss = 1.334\n",
      "Epoch  95 Batch    0/4   train_loss = 1.320\n",
      "Epoch  96 Batch    0/4   train_loss = 1.300\n",
      "Epoch  97 Batch    0/4   train_loss = 1.289\n",
      "Epoch  98 Batch    0/4   train_loss = 1.272\n",
      "Epoch  99 Batch    0/4   train_loss = 1.256\n",
      "Epoch 100 Batch    0/4   train_loss = 1.255\n",
      "Epoch 101 Batch    0/4   train_loss = 1.226\n",
      "Epoch 102 Batch    0/4   train_loss = 1.236\n",
      "Epoch 103 Batch    0/4   train_loss = 1.201\n",
      "Epoch 104 Batch    0/4   train_loss = 1.205\n",
      "Epoch 105 Batch    0/4   train_loss = 1.178\n",
      "Epoch 106 Batch    0/4   train_loss = 1.168\n",
      "Epoch 107 Batch    0/4   train_loss = 1.144\n",
      "Epoch 108 Batch    0/4   train_loss = 1.136\n",
      "Epoch 109 Batch    0/4   train_loss = 1.122\n",
      "Epoch 110 Batch    0/4   train_loss = 1.105\n",
      "Epoch 111 Batch    0/4   train_loss = 1.112\n",
      "Epoch 112 Batch    0/4   train_loss = 1.078\n",
      "Epoch 113 Batch    0/4   train_loss = 1.086\n",
      "Epoch 114 Batch    0/4   train_loss = 1.059\n",
      "Epoch 115 Batch    0/4   train_loss = 1.057\n",
      "Epoch 116 Batch    0/4   train_loss = 1.042\n",
      "Epoch 117 Batch    0/4   train_loss = 1.031\n",
      "Epoch 118 Batch    0/4   train_loss = 1.037\n",
      "Epoch 119 Batch    0/4   train_loss = 1.005\n",
      "Epoch 120 Batch    0/4   train_loss = 1.035\n",
      "Epoch 121 Batch    0/4   train_loss = 0.985\n",
      "Epoch 122 Batch    0/4   train_loss = 0.998\n",
      "Epoch 123 Batch    0/4   train_loss = 0.970\n",
      "Epoch 124 Batch    0/4   train_loss = 0.952\n",
      "Epoch 125 Batch    0/4   train_loss = 0.942\n",
      "Epoch 126 Batch    0/4   train_loss = 0.921\n",
      "Epoch 127 Batch    0/4   train_loss = 0.915\n",
      "Epoch 128 Batch    0/4   train_loss = 0.899\n",
      "Epoch 129 Batch    0/4   train_loss = 0.892\n",
      "Epoch 130 Batch    0/4   train_loss = 0.884\n",
      "Epoch 131 Batch    0/4   train_loss = 0.883\n",
      "Epoch 132 Batch    0/4   train_loss = 0.872\n",
      "Epoch 133 Batch    0/4   train_loss = 0.877\n",
      "Epoch 134 Batch    0/4   train_loss = 0.866\n",
      "Epoch 135 Batch    0/4   train_loss = 0.850\n",
      "Epoch 136 Batch    0/4   train_loss = 0.854\n",
      "Epoch 137 Batch    0/4   train_loss = 0.817\n",
      "Epoch 138 Batch    0/4   train_loss = 0.829\n",
      "Epoch 139 Batch    0/4   train_loss = 0.798\n",
      "Epoch 140 Batch    0/4   train_loss = 0.803\n",
      "Epoch 141 Batch    0/4   train_loss = 0.783\n",
      "Epoch 142 Batch    0/4   train_loss = 0.775\n",
      "Epoch 143 Batch    0/4   train_loss = 0.768\n",
      "Epoch 144 Batch    0/4   train_loss = 0.758\n",
      "Epoch 145 Batch    0/4   train_loss = 0.749\n",
      "Epoch 146 Batch    0/4   train_loss = 0.758\n",
      "Epoch 147 Batch    0/4   train_loss = 0.728\n",
      "Epoch 148 Batch    0/4   train_loss = 0.748\n",
      "Epoch 149 Batch    0/4   train_loss = 0.719\n",
      "Epoch 150 Batch    0/4   train_loss = 0.719\n",
      "Epoch 151 Batch    0/4   train_loss = 0.714\n",
      "Epoch 152 Batch    0/4   train_loss = 0.690\n",
      "Epoch 153 Batch    0/4   train_loss = 0.692\n",
      "Epoch 154 Batch    0/4   train_loss = 0.672\n",
      "Epoch 155 Batch    0/4   train_loss = 0.666\n",
      "Epoch 156 Batch    0/4   train_loss = 0.653\n",
      "Epoch 157 Batch    0/4   train_loss = 0.653\n",
      "Epoch 158 Batch    0/4   train_loss = 0.634\n",
      "Epoch 159 Batch    0/4   train_loss = 0.639\n",
      "Epoch 160 Batch    0/4   train_loss = 0.643\n",
      "Epoch 161 Batch    0/4   train_loss = 0.623\n",
      "Epoch 162 Batch    0/4   train_loss = 0.655\n",
      "Epoch 163 Batch    0/4   train_loss = 0.627\n",
      "Epoch 164 Batch    0/4   train_loss = 0.639\n",
      "Epoch 165 Batch    0/4   train_loss = 0.608\n",
      "Epoch 166 Batch    0/4   train_loss = 0.594\n",
      "Epoch 167 Batch    0/4   train_loss = 0.587\n",
      "Epoch 168 Batch    0/4   train_loss = 0.574\n",
      "Epoch 169 Batch    0/4   train_loss = 0.571\n",
      "Epoch 170 Batch    0/4   train_loss = 0.561\n",
      "Epoch 171 Batch    0/4   train_loss = 0.563\n",
      "Epoch 172 Batch    0/4   train_loss = 0.559\n",
      "Epoch 173 Batch    0/4   train_loss = 0.550\n",
      "Epoch 174 Batch    0/4   train_loss = 0.548\n",
      "Epoch 175 Batch    0/4   train_loss = 0.545\n",
      "Epoch 176 Batch    0/4   train_loss = 0.524\n",
      "Epoch 177 Batch    0/4   train_loss = 0.528\n",
      "Epoch 178 Batch    0/4   train_loss = 0.512\n",
      "Epoch 179 Batch    0/4   train_loss = 0.512\n",
      "Epoch 180 Batch    0/4   train_loss = 0.512\n",
      "Epoch 181 Batch    0/4   train_loss = 0.493\n",
      "Epoch 182 Batch    0/4   train_loss = 0.500\n",
      "Epoch 183 Batch    0/4   train_loss = 0.485\n",
      "Epoch 184 Batch    0/4   train_loss = 0.477\n",
      "Epoch 185 Batch    0/4   train_loss = 0.478\n",
      "Epoch 186 Batch    0/4   train_loss = 0.459\n"
     ]
    },
    {
     "name": "stdout",
     "output_type": "stream",
     "text": [
      "Epoch 187 Batch    0/4   train_loss = 0.466\n",
      "Epoch 188 Batch    0/4   train_loss = 0.451\n",
      "Epoch 189 Batch    0/4   train_loss = 0.452\n",
      "Epoch 190 Batch    0/4   train_loss = 0.446\n",
      "Epoch 191 Batch    0/4   train_loss = 0.442\n",
      "Epoch 192 Batch    0/4   train_loss = 0.444\n",
      "Epoch 193 Batch    0/4   train_loss = 0.441\n",
      "Epoch 194 Batch    0/4   train_loss = 0.444\n",
      "Epoch 195 Batch    0/4   train_loss = 0.436\n",
      "Epoch 196 Batch    0/4   train_loss = 0.443\n",
      "Epoch 197 Batch    0/4   train_loss = 0.431\n",
      "Epoch 198 Batch    0/4   train_loss = 0.423\n",
      "Epoch 199 Batch    0/4   train_loss = 0.415\n",
      "Epoch 200 Batch    0/4   train_loss = 0.392\n",
      "Epoch 201 Batch    0/4   train_loss = 0.392\n",
      "Epoch 202 Batch    0/4   train_loss = 0.382\n",
      "Epoch 203 Batch    0/4   train_loss = 0.375\n",
      "Epoch 204 Batch    0/4   train_loss = 0.368\n",
      "Epoch 205 Batch    0/4   train_loss = 0.364\n",
      "Epoch 206 Batch    0/4   train_loss = 0.364\n",
      "Epoch 207 Batch    0/4   train_loss = 0.357\n",
      "Epoch 208 Batch    0/4   train_loss = 0.367\n",
      "Epoch 209 Batch    0/4   train_loss = 0.372\n",
      "Epoch 210 Batch    0/4   train_loss = 0.377\n",
      "Epoch 211 Batch    0/4   train_loss = 0.388\n",
      "Epoch 212 Batch    0/4   train_loss = 0.381\n",
      "Epoch 213 Batch    0/4   train_loss = 0.374\n",
      "Epoch 214 Batch    0/4   train_loss = 0.359\n",
      "Epoch 215 Batch    0/4   train_loss = 0.341\n",
      "Epoch 216 Batch    0/4   train_loss = 0.338\n",
      "Epoch 217 Batch    0/4   train_loss = 0.326\n",
      "Epoch 218 Batch    0/4   train_loss = 0.320\n",
      "Epoch 219 Batch    0/4   train_loss = 0.312\n",
      "Epoch 220 Batch    0/4   train_loss = 0.307\n",
      "Epoch 221 Batch    0/4   train_loss = 0.304\n",
      "Epoch 222 Batch    0/4   train_loss = 0.297\n",
      "Epoch 223 Batch    0/4   train_loss = 0.306\n",
      "Epoch 224 Batch    0/4   train_loss = 0.290\n",
      "Epoch 225 Batch    0/4   train_loss = 0.308\n",
      "Epoch 226 Batch    0/4   train_loss = 0.290\n",
      "Epoch 227 Batch    0/4   train_loss = 0.295\n",
      "Epoch 228 Batch    0/4   train_loss = 0.286\n",
      "Epoch 229 Batch    0/4   train_loss = 0.284\n",
      "Epoch 230 Batch    0/4   train_loss = 0.278\n",
      "Epoch 231 Batch    0/4   train_loss = 0.272\n",
      "Epoch 232 Batch    0/4   train_loss = 0.269\n",
      "Epoch 233 Batch    0/4   train_loss = 0.259\n",
      "Epoch 234 Batch    0/4   train_loss = 0.262\n",
      "Epoch 235 Batch    0/4   train_loss = 0.256\n",
      "Epoch 236 Batch    0/4   train_loss = 0.254\n",
      "Epoch 237 Batch    0/4   train_loss = 0.251\n",
      "Epoch 238 Batch    0/4   train_loss = 0.252\n",
      "Epoch 239 Batch    0/4   train_loss = 0.255\n",
      "Epoch 240 Batch    0/4   train_loss = 0.248\n",
      "Epoch 241 Batch    0/4   train_loss = 0.260\n",
      "Epoch 242 Batch    0/4   train_loss = 0.248\n",
      "Epoch 243 Batch    0/4   train_loss = 0.258\n",
      "Epoch 244 Batch    0/4   train_loss = 0.249\n",
      "Epoch 245 Batch    0/4   train_loss = 0.242\n",
      "Epoch 246 Batch    0/4   train_loss = 0.237\n",
      "Epoch 247 Batch    0/4   train_loss = 0.230\n",
      "Epoch 248 Batch    0/4   train_loss = 0.225\n",
      "Epoch 249 Batch    0/4   train_loss = 0.221\n",
      "Epoch 250 Batch    0/4   train_loss = 0.217\n",
      "Epoch 251 Batch    0/4   train_loss = 0.213\n",
      "Epoch 252 Batch    0/4   train_loss = 0.212\n",
      "Epoch 253 Batch    0/4   train_loss = 0.207\n",
      "Epoch 254 Batch    0/4   train_loss = 0.205\n",
      "Epoch 255 Batch    0/4   train_loss = 0.200\n",
      "Model Trained and Saved\n"
     ]
    }
   ],
   "source": [
    "\"\"\"\n",
    "DON'T MODIFY ANYTHING IN THIS CELL\n",
    "\"\"\"\n",
    "batches = get_batches(int_text, batch_size, seq_length)\n",
    "\n",
    "with tf.Session(graph=train_graph) as sess:\n",
    "    sess.run(tf.global_variables_initializer())\n",
    "\n",
    "    for epoch_i in range(num_epochs):\n",
    "        state = sess.run(initial_state, {input_text: batches[0][0]})\n",
    "\n",
    "        for batch_i, (x, y) in enumerate(batches):\n",
    "            feed = {\n",
    "                input_text: x,\n",
    "                targets: y,\n",
    "                initial_state: state,\n",
    "                lr: learning_rate}\n",
    "            train_loss, state, _ = sess.run([cost, final_state, train_op], feed)\n",
    "\n",
    "            # Show every <show_every_n_batches> batches\n",
    "            if (epoch_i * len(batches) + batch_i) % show_every_n_batches == 0:\n",
    "                print('Epoch {:>3} Batch {:>4}/{}   train_loss = {:.3f}'.format(\n",
    "                    epoch_i,\n",
    "                    batch_i,\n",
    "                    len(batches),\n",
    "                    train_loss))\n",
    "\n",
    "    # Save Model\n",
    "    saver = tf.train.Saver()\n",
    "    saver.save(sess, save_dir)\n",
    "    print('Model Trained and Saved')"
   ]
  },
  {
   "cell_type": "markdown",
   "metadata": {},
   "source": [
    "## Save Parameters\n",
    "Save `seq_length` and `save_dir` for generating a new TV script."
   ]
  },
  {
   "cell_type": "code",
   "execution_count": 45,
   "metadata": {},
   "outputs": [],
   "source": [
    "\"\"\"\n",
    "DON'T MODIFY ANYTHING IN THIS CELL\n",
    "\"\"\"\n",
    "# Save parameters for checkpoint\n",
    "helper.save_params((seq_length, save_dir))"
   ]
  },
  {
   "cell_type": "markdown",
   "metadata": {},
   "source": [
    "# Checkpoint"
   ]
  },
  {
   "cell_type": "code",
   "execution_count": 46,
   "metadata": {},
   "outputs": [],
   "source": [
    "\"\"\"\n",
    "DON'T MODIFY ANYTHING IN THIS CELL\n",
    "\"\"\"\n",
    "import tensorflow as tf\n",
    "import numpy as np\n",
    "import helper\n",
    "import problem_unittests as tests\n",
    "\n",
    "_, vocab_to_int, int_to_vocab, token_dict = helper.load_preprocess()\n",
    "seq_length, load_dir = helper.load_params()"
   ]
  },
  {
   "cell_type": "markdown",
   "metadata": {},
   "source": [
    "## Implement Generate Functions\n",
    "### Get Tensors\n",
    "Get tensors from `loaded_graph` using the function [`get_tensor_by_name()`](https://www.tensorflow.org/api_docs/python/tf/Graph#get_tensor_by_name).  Get the tensors using the following names:\n",
    "- \"input:0\"\n",
    "- \"initial_state:0\"\n",
    "- \"final_state:0\"\n",
    "- \"probs:0\"\n",
    "\n",
    "Return the tensors in the following tuple `(InputTensor, InitialStateTensor, FinalStateTensor, ProbsTensor)` "
   ]
  },
  {
   "cell_type": "code",
   "execution_count": 47,
   "metadata": {},
   "outputs": [
    {
     "name": "stdout",
     "output_type": "stream",
     "text": [
      "Tests Passed\n"
     ]
    }
   ],
   "source": [
    "def get_tensors(loaded_graph):\n",
    "    \"\"\"\n",
    "    Get input, initial state, final state, and probabilities tensor from <loaded_graph>\n",
    "    :param loaded_graph: TensorFlow graph loaded from file\n",
    "    :return: Tuple (InputTensor, InitialStateTensor, FinalStateTensor, ProbsTensor)\n",
    "    \"\"\"\n",
    "    # TODO: Implement Function\n",
    "    inputs = loaded_graph.get_tensor_by_name(\"input:0\")\n",
    "    initial_state = loaded_graph.get_tensor_by_name(\"initial_state:0\")\n",
    "    final_state = loaded_graph.get_tensor_by_name(\"final_state:0\")\n",
    "    probs = loaded_graph.get_tensor_by_name(\"probs:0\")\n",
    "    return inputs, initial_state, final_state, probs\n",
    "    #return None, None, None, None\n",
    "\n",
    "\n",
    "\"\"\"\n",
    "DON'T MODIFY ANYTHING IN THIS CELL THAT IS BELOW THIS LINE\n",
    "\"\"\"\n",
    "tests.test_get_tensors(get_tensors)"
   ]
  },
  {
   "cell_type": "markdown",
   "metadata": {},
   "source": [
    "### Choose Word\n",
    "Implement the `pick_word()` function to select the next word using `probabilities`."
   ]
  },
  {
   "cell_type": "code",
   "execution_count": 48,
   "metadata": {},
   "outputs": [
    {
     "name": "stdout",
     "output_type": "stream",
     "text": [
      "Tests Passed\n"
     ]
    }
   ],
   "source": [
    "def pick_word(probabilities, int_to_vocab):\n",
    "    \"\"\"\n",
    "    Pick the next word in the generated text\n",
    "    :param probabilities: Probabilites of the next word\n",
    "    :param int_to_vocab: Dictionary of word ids as the keys and words as the values\n",
    "    :return: String of the predicted word\n",
    "    \"\"\"\n",
    "    # TODO: Implement Function\n",
    "    idx = np.argmax(probabilities)\n",
    "    word = int_to_vocab[idx]\n",
    "    \n",
    "    return word\n",
    "\n",
    "\"\"\"\n",
    "DON'T MODIFY ANYTHING IN THIS CELL THAT IS BELOW THIS LINE\n",
    "\"\"\"\n",
    "tests.test_pick_word(pick_word)"
   ]
  },
  {
   "cell_type": "markdown",
   "metadata": {},
   "source": [
    "## Generate TV Script\n",
    "This will generate the TV script for you.  Set `gen_length` to the length of TV script you want to generate."
   ]
  },
  {
   "cell_type": "code",
   "execution_count": 49,
   "metadata": {},
   "outputs": [
    {
     "name": "stdout",
     "output_type": "stream",
     "text": [
      "INFO:tensorflow:Restoring parameters from ./save\n",
      "moe_szyslak:(nasty laugh) ah, ha ha, you got me, didn't ya?(handing homer a beer) all right, here you go--\" red tick beer.\"\n",
      "homer_simpson: hmm, bold-- refreshing... and something i can't quite put my finger on.\n",
      "homer_simpson: well, i guess i'll have to wait for marge to show some backbone and--(notices something) you again?!\n",
      "homer_simpson:(aggravated) not duff dry... dallas.\n",
      "barney_gumble: okay, okay. they're both great teams.\n",
      "homer_simpson:(looking up) huh?\n",
      "football_announcer: touchdown cowboys!\n",
      "homer_simpson: all right... well, i just made friends with pepto-bismol on facebook and uh... um...(pause) schabadoo.\n",
      "moe_szyslak: that's the worst name i ever heard, i gotta be honest with ya, homer. i didn't bring you up here to show you my new tar-paper.\n",
      "homer_simpson:(naively) you...\n",
      "homer_simpson:(intrigued) so there's a chance of\n"
     ]
    }
   ],
   "source": [
    "gen_length = 200\n",
    "# homer_simpson, moe_szyslak, or Barney_Gumble\n",
    "prime_word = 'moe_szyslak'\n",
    "\n",
    "\"\"\"\n",
    "DON'T MODIFY ANYTHING IN THIS CELL THAT IS BELOW THIS LINE\n",
    "\"\"\"\n",
    "loaded_graph = tf.Graph()\n",
    "with tf.Session(graph=loaded_graph) as sess:\n",
    "    # Load saved model\n",
    "    loader = tf.train.import_meta_graph(load_dir + '.meta')\n",
    "    loader.restore(sess, load_dir)\n",
    "\n",
    "    # Get Tensors from loaded model\n",
    "    input_text, initial_state, final_state, probs = get_tensors(loaded_graph)\n",
    "\n",
    "    # Sentences generation setup\n",
    "    gen_sentences = [prime_word + ':']\n",
    "    prev_state = sess.run(initial_state, {input_text: np.array([[1]])})\n",
    "\n",
    "    # Generate sentences\n",
    "    for n in range(gen_length):\n",
    "        # Dynamic Input\n",
    "        dyn_input = [[vocab_to_int[word] for word in gen_sentences[-seq_length:]]]\n",
    "        dyn_seq_length = len(dyn_input[0])\n",
    "\n",
    "        # Get Prediction\n",
    "        probabilities, prev_state = sess.run(\n",
    "            [probs, final_state],\n",
    "            {input_text: dyn_input, initial_state: prev_state})\n",
    "        \n",
    "        pred_word = pick_word(probabilities[0][dyn_seq_length-1], int_to_vocab)\n",
    "\n",
    "        gen_sentences.append(pred_word)\n",
    "    \n",
    "    # Remove tokens\n",
    "    tv_script = ' '.join(gen_sentences)\n",
    "    for key, token in token_dict.items():\n",
    "        ending = ' ' if key in ['\\n', '(', '\"'] else ''\n",
    "        tv_script = tv_script.replace(' ' + token.lower(), key)\n",
    "    tv_script = tv_script.replace('\\n ', '\\n')\n",
    "    tv_script = tv_script.replace('( ', '(')\n",
    "        \n",
    "    print(tv_script)"
   ]
  },
  {
   "cell_type": "markdown",
   "metadata": {},
   "source": [
    "# The TV Script is Nonsensical\n",
    "It's ok if the TV script doesn't make any sense.  We trained on less than a megabyte of text.  In order to get good results, you'll have to use a smaller vocabulary or get more data.  Luckily there's more data!  As we mentioned in the beggining of this project, this is a subset of [another dataset](https://www.kaggle.com/wcukierski/the-simpsons-by-the-data).  We didn't have you train on all the data, because that would take too long.  However, you are free to train your neural network on all the data.  After you complete the project, of course.\n",
    "# Submitting This Project\n",
    "When submitting this project, make sure to run all the cells before saving the notebook. Save the notebook file as \"dlnd_tv_script_generation.ipynb\" and save it as a HTML file under \"File\" -> \"Download as\". Include the \"helper.py\" and \"problem_unittests.py\" files in your submission."
   ]
  },
  {
   "cell_type": "code",
   "execution_count": null,
   "metadata": {},
   "outputs": [],
   "source": []
  }
 ],
 "metadata": {
  "kernelspec": {
   "display_name": "Python 3",
   "language": "python",
   "name": "python3"
  },
  "language_info": {
   "codemirror_mode": {
    "name": "ipython",
    "version": 3
   },
   "file_extension": ".py",
   "mimetype": "text/x-python",
   "name": "python",
   "nbconvert_exporter": "python",
   "pygments_lexer": "ipython3",
   "version": "3.6.5"
  },
  "widgets": {
   "state": {},
   "version": "1.1.2"
  }
 },
 "nbformat": 4,
 "nbformat_minor": 1
}
